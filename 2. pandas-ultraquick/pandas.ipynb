{
 "cells": [
  {
   "cell_type": "markdown",
   "source": [
    "Author: BEDEZUB\n",
    "Date: 2021-08-12\n",
    "Title: Pandas Ultraquick\n",
    "Objective: To understand how pandas work"
   ],
   "metadata": {}
  },
  {
   "cell_type": "code",
   "execution_count": 3,
   "source": [
    "import numpy as np\n",
    "import pandas as pd"
   ],
   "outputs": [],
   "metadata": {}
  },
  {
   "cell_type": "code",
   "execution_count": 5,
   "source": [
    "# Create dataframe\n",
    "table_column_name = ['temperature', 'activity']\n",
    "table_content = np.array([\n",
    "    [2, 4],\n",
    "    [1, 7],\n",
    "    [2, 9]\n",
    "])\n",
    "\n",
    "dataframe = pd.DataFrame(\n",
    "    columns=table_column_name,\n",
    "    data=table_content\n",
    ")\n",
    "print(dataframe)"
   ],
   "outputs": [
    {
     "output_type": "stream",
     "name": "stdout",
     "text": [
      "   temperature  activity\n",
      "0            2         4\n",
      "1            1         7\n",
      "2            2         9\n"
     ]
    }
   ],
   "metadata": {}
  },
  {
   "cell_type": "code",
   "execution_count": 6,
   "source": [
    "dataframe[\"adjusted\"] = dataframe[\"activity\"] + 2 # Value untuk column adjusted tu is value of column activity + 2\n",
    "\n",
    "print(dataframe)"
   ],
   "outputs": [
    {
     "output_type": "stream",
     "name": "stdout",
     "text": [
      "   temperature  activity  adjusted\n",
      "0            2         4         6\n",
      "1            1         7         9\n",
      "2            2         9        11\n"
     ]
    }
   ],
   "metadata": {}
  },
  {
   "cell_type": "code",
   "execution_count": 8,
   "source": [
    "# Manipulating with dataframe\n",
    "\n",
    "print(\"Rows #0, #1, and #2:\")\n",
    "print(dataframe.head(3), '\\n') # First 3 rows\n",
    "\n",
    "print(\"Row #2:\")\n",
    "print(dataframe.iloc[[2]], '\\n') # Call specific column\n",
    "\n",
    "print(\"Rows #1, #2, and #3:\")\n",
    "print(dataframe[1:4], '\\n') # Call row from 1 to 4\n",
    "\n",
    "print(\"Column 'temperature':\")\n",
    "print(dataframe['temperature']) "
   ],
   "outputs": [
    {
     "output_type": "stream",
     "name": "stdout",
     "text": [
      "Rows #0, #1, and #2:\n",
      "   temperature  activity  adjusted\n",
      "0            2         4         6\n",
      "1            1         7         9\n",
      "2            2         9        11 \n",
      "\n",
      "Row #2:\n",
      "   temperature  activity  adjusted\n",
      "2            2         9        11 \n",
      "\n",
      "Rows #1, #2, and #3:\n",
      "   temperature  activity  adjusted\n",
      "1            1         7         9\n",
      "2            2         9        11 \n",
      "\n",
      "Column 'temperature':\n",
      "0    2\n",
      "1    1\n",
      "2    2\n",
      "Name: temperature, dtype: int64\n"
     ]
    }
   ],
   "metadata": {}
  },
  {
   "cell_type": "code",
   "execution_count": 24,
   "source": [
    "# Task 1: Create a DataFrame \n",
    "\n",
    "task_one_column_name = [\"Eleanor\", \"Chidi\", \"Tahani\", \"Jason\"]\n",
    "task_one_contents = np.random.randint(low=0, high=101, size=(3,4)) # Untuk size, (row, column)\n",
    "task_one_dataframe = pd.DataFrame(columns=task_one_column_name, data=task_one_contents)"
   ],
   "outputs": [],
   "metadata": {}
  },
  {
   "cell_type": "code",
   "execution_count": 25,
   "source": [
    "print(\"Output of entire dataframe: \")\n",
    "print(task_one_dataframe, \"\\n\")\n",
    "\n",
    "print(\"Value of cell of row 1 of the Eleanor\")\n",
    "print(task_one_dataframe[\"Eleanor\"][1]) # Bila call, [column][row] lol"
   ],
   "outputs": [
    {
     "output_type": "stream",
     "name": "stdout",
     "text": [
      "Output of entire dataframe: \n",
      "   Eleanor  Chidi  Tahani  Jason\n",
      "0       47     53      43     71\n",
      "1       27     70      33     41\n",
      "2      100     29      86     78 \n",
      "\n",
      "Value of cell of row 1 of the Eleanor\n",
      "27\n"
     ]
    }
   ],
   "metadata": {}
  },
  {
   "cell_type": "code",
   "execution_count": 28,
   "source": [
    "task_one_dataframe[\"Janet\"] = task_one_dataframe['Tahani'] + task_one_dataframe[\"Jason\"]\n",
    "\n",
    "print(task_one_dataframe)"
   ],
   "outputs": [
    {
     "output_type": "stream",
     "name": "stdout",
     "text": [
      "   Eleanor  Chidi  Tahani  Jason  Janet\n",
      "0       47     53      43     71    114\n",
      "1       27     70      33     41     74\n",
      "2      100     29      86     78    164\n"
     ]
    }
   ],
   "metadata": {}
  },
  {
   "cell_type": "code",
   "execution_count": null,
   "source": [],
   "outputs": [],
   "metadata": {}
  }
 ],
 "metadata": {
  "orig_nbformat": 4,
  "language_info": {
   "name": "python",
   "version": "3.9.6",
   "mimetype": "text/x-python",
   "codemirror_mode": {
    "name": "ipython",
    "version": 3
   },
   "pygments_lexer": "ipython3",
   "nbconvert_exporter": "python",
   "file_extension": ".py"
  },
  "kernelspec": {
   "name": "python3",
   "display_name": "Python 3.9.6 64-bit"
  },
  "interpreter": {
   "hash": "4cd7ab41f5fca4b9b44701077e38c5ffd31fe66a6cab21e0214b68d958d0e462"
  }
 },
 "nbformat": 4,
 "nbformat_minor": 2
}