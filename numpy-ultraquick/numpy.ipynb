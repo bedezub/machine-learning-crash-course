{
 "cells": [
  {
   "cell_type": "markdown",
   "source": [
    "Author: BEDEZUB\n",
    "Date: 2021-08-12\n",
    "Title: Numpy Ultraquick\n",
    "Objective: To understand how numpy works"
   ],
   "metadata": {}
  },
  {
   "cell_type": "code",
   "execution_count": 2,
   "source": [
    "# Numpy installation - Uncomment line below or Run the requirements.txt\n",
    "# !pip install numpy"
   ],
   "outputs": [
    {
     "output_type": "stream",
     "name": "stdout",
     "text": [
      "Collecting numpy\n",
      "  Downloading numpy-1.21.1-cp39-cp39-manylinux_2_12_x86_64.manylinux2010_x86_64.whl (15.8 MB)\n",
      "\u001b[K     |████████████████████████████████| 15.8 MB 1.8 MB/s \n",
      "\u001b[?25hInstalling collected packages: numpy\n",
      "Successfully installed numpy-1.21.1\n",
      "\u001b[33mWARNING: Running pip as the 'root' user can result in broken permissions and conflicting behaviour with the system package manager. It is recommended to use a virtual environment instead: https://pip.pypa.io/warnings/venv\u001b[0m\n"
     ]
    }
   ],
   "metadata": {}
  },
  {
   "cell_type": "code",
   "execution_count": 3,
   "source": [
    "import numpy as np"
   ],
   "outputs": [],
   "metadata": {}
  },
  {
   "cell_type": "code",
   "execution_count": 4,
   "source": [
    "# Create a one dimension array\n",
    "one_dimension_array = np.array([1.2, 1.3, 1.4, 1.5])\n",
    "print(one_dimension_array)"
   ],
   "outputs": [
    {
     "output_type": "stream",
     "name": "stdout",
     "text": [
      "[1.2 1.3 1.4 1.5]\n"
     ]
    }
   ],
   "metadata": {}
  },
  {
   "cell_type": "code",
   "execution_count": 7,
   "source": [
    "# Create a two dimension array\n",
    "two_dimensional_array = np.array([[6, 5], [11, 7], [4, 8]])\n",
    "print(two_dimensional_array)"
   ],
   "outputs": [
    {
     "output_type": "stream",
     "name": "stdout",
     "text": [
      "[[ 6  5]\n",
      " [11  7]\n",
      " [ 4  8]]\n"
     ]
    }
   ],
   "metadata": {}
  },
  {
   "cell_type": "code",
   "execution_count": 12,
   "source": [
    "# Populate a matrix with all zeros\n",
    "zeros_array = np.zeros(shape=(2,2))\n",
    "print(zeros_array)"
   ],
   "outputs": [
    {
     "output_type": "stream",
     "name": "stdout",
     "text": [
      "[[0. 0.]\n",
      " [0. 0.]]\n"
     ]
    }
   ],
   "metadata": {}
  },
  {
   "cell_type": "code",
   "execution_count": 14,
   "source": [
    "# Populate a matrix with all ones\n",
    "ones_array = np.ones(shape=(2,2))\n",
    "print(ones_array)"
   ],
   "outputs": [
    {
     "output_type": "stream",
     "name": "stdout",
     "text": [
      "[[1. 1.]\n",
      " [1. 1.]]\n"
     ]
    }
   ],
   "metadata": {}
  },
  {
   "cell_type": "code",
   "execution_count": 16,
   "source": [
    "# Populate an array with sequence of integers\n",
    "sequence_array = np.arange(start=5, stop=50, step=5)\n",
    "print(sequence_array)"
   ],
   "outputs": [
    {
     "output_type": "stream",
     "name": "stdout",
     "text": [
      "[ 5 10 15 20 25 30 35 40 45]\n"
     ]
    }
   ],
   "metadata": {}
  },
  {
   "cell_type": "code",
   "execution_count": 18,
   "source": [
    "# Create random integers\n",
    "random_array = np.random.randint(low=50, high=100, size=(10))\n",
    "print(random_array)"
   ],
   "outputs": [
    {
     "output_type": "stream",
     "name": "stdout",
     "text": [
      "[91 60 79 78 93 85 77 77 73 73]\n"
     ]
    }
   ],
   "metadata": {}
  },
  {
   "cell_type": "code",
   "execution_count": 22,
   "source": [
    "# Mathematical Operation on Numpy. This is the fun part\n",
    "print(\"-------- Original array -------\")\n",
    "print(sequence_array)\n",
    "\n",
    "print(\"\\n------ Original array + 2 -----\")\n",
    "sequence_array_plus_2 = sequence_array + 2\n",
    "print(sequence_array_plus_2)"
   ],
   "outputs": [
    {
     "output_type": "stream",
     "name": "stdout",
     "text": [
      "-------- Original array -------\n",
      "[ 5 10 15 20 25 30 35 40 45]\n",
      "\n",
      "------ Original array + 2 -----\n",
      "[ 7 12 17 22 27 32 37 42 47]\n"
     ]
    }
   ],
   "metadata": {}
  },
  {
   "cell_type": "code",
   "execution_count": 25,
   "source": [
    "## Task 1: Create a Linear Dataset\n",
    "\n",
    "# Assign a sequence of integers from 6 to 20 to a NumPy array named feature\n",
    "feature = np.arange(start=6, stop=20)\n",
    "print(feature)\n",
    "\n",
    "# Assign 15 values to a NumPy array named label\n",
    "label = np.array((feature * 3) + 4)\n",
    "print(label)"
   ],
   "outputs": [
    {
     "output_type": "stream",
     "name": "stdout",
     "text": [
      "[ 6  7  8  9 10 11 12 13 14 15 16 17 18 19]\n",
      "[22 25 28 31 34 37 40 43 46 49 52 55 58 61]\n"
     ]
    }
   ],
   "metadata": {}
  },
  {
   "cell_type": "code",
   "execution_count": 31,
   "source": [
    "## Task 2: Add some noise to the dataset\n",
    "\n",
    "# Modify each value assigned to label by adding a different random floating-point value between -2 and +2\n",
    "noise = (np.random.random(label.shape) * 4) - 1\n",
    "print(noise)\n",
    "\n",
    "new_label = label + noise\n",
    "print(new_label)"
   ],
   "outputs": [
    {
     "output_type": "stream",
     "name": "stdout",
     "text": [
      "[-0.99425478  0.08491737  2.97062852 -0.17249342  1.01823056  2.76823915\n",
      "  1.82552299  0.30315391  1.33900858  2.62410345  1.61583603  2.70563462\n",
      "  0.21530613 -0.73761797]\n",
      "[21.00574522 25.08491737 30.97062852 30.82750658 35.01823056 39.76823915\n",
      " 41.82552299 43.30315391 47.33900858 51.62410345 53.61583603 57.70563462\n",
      " 58.21530613 60.26238203]\n"
     ]
    }
   ],
   "metadata": {}
  }
 ],
 "metadata": {
  "orig_nbformat": 4,
  "language_info": {
   "name": "python",
   "version": "3.9.6",
   "mimetype": "text/x-python",
   "codemirror_mode": {
    "name": "ipython",
    "version": 3
   },
   "pygments_lexer": "ipython3",
   "nbconvert_exporter": "python",
   "file_extension": ".py"
  },
  "kernelspec": {
   "name": "python3",
   "display_name": "Python 3.9.6 64-bit"
  },
  "interpreter": {
   "hash": "4cd7ab41f5fca4b9b44701077e38c5ffd31fe66a6cab21e0214b68d958d0e462"
  }
 },
 "nbformat": 4,
 "nbformat_minor": 2
}